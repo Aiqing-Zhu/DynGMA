{
 "cells": [
  {
   "cell_type": "code",
   "execution_count": 63,
   "id": "dbc1def5-dea7-4629-ad30-172fdf44fa83",
   "metadata": {
    "tags": []
   },
   "outputs": [
    {
     "name": "stdout",
     "output_type": "stream",
     "text": [
      "(1000, 1, 10)\n",
      "0\n",
      "1\n",
      "2\n",
      "3\n",
      "4\n",
      "1\n",
      "2\n",
      "3\n",
      "4\n"
     ]
    }
   ],
   "source": [
    "import torch\n",
    "import numpy as np\n",
    "\n",
    "\n",
    "from EMTData import EMTData\n",
    "import time\n",
    "\n",
    "seed=5\n",
    "\n",
    "\n",
    "def error(data): \n",
    "    \n",
    "    return torch.sqrt(((data**2).mean()).detach())  \n",
    "    # return data.abs().mean().detach()\n",
    "\n",
    "\n",
    "traj = np.load('EMTdata/ID_truetraj_steps200000_num1000_time1.npy')[:, -1:,:]\n",
    "print(traj.shape)\n",
    "x = torch.tensor(traj.reshape([-1, 10]), dtype=torch.float32)\n",
    "\n",
    "es8=np.zeros([2,seed])\n",
    "ef8=np.zeros([2,seed])\n",
    "for i in range(seed):\n",
    "    print(i)\n",
    "    local = 'outputs/EMT0.08_seed{}/model_best.pkl'.format(i) \n",
    "    net = torch.load(local, map_location=torch.device('cpu'))\n",
    "    ef8[0, i]=error(EMTData.f(x) - net.vf(x))/error(EMTData.f(x)) \n",
    " \n",
    "\n",
    "    A = net.modus['sigma'](x[0:1]) \n",
    "    target = torch.eye(10)*0.04 \n",
    "    es8[0, i]= error(A@A.transpose(dim0=-2, dim1=-1) - target)/ error(target)\n",
    "    \n",
    "    local = 'outputs/EMT0.08_seed{}EM/model_best.pkl'.format(i) \n",
    "    net = torch.load(local, map_location=torch.device('cpu'))\n",
    "    ef8[1, i]=error(EMTData.f(x) - net.vf(x))/error(EMTData.f(x)) \n",
    " \n",
    "\n",
    "    A = net.modus['sigma'](x[0:1]) \n",
    "    target = torch.eye(10)*0.04 \n",
    "    es8[1, i]= error(A@A.transpose(dim0=-2, dim1=-1) - target)/ error(target)\n",
    "    \n",
    "    \n",
    "es4=np.zeros([2,seed])\n",
    "ef4=np.zeros([2,seed])\n",
    "for i in range(1,seed):\n",
    "    print(i)\n",
    "    local = 'outputs/EMT0.08_seed{}/model_best.pkl'.format(i) \n",
    "    net = torch.load(local, map_location=torch.device('cpu'))\n",
    "    ef4[0, i]=error(EMTData.f(x) - net.vf(x))/error(EMTData.f(x)) \n",
    " \n",
    "\n",
    "    A = net.modus['sigma'](x[0:1]) \n",
    "    target = torch.eye(10)*0.04 \n",
    "    es4[0, i]= error(A@A.transpose(dim0=-2, dim1=-1) - target)/ error(target)\n",
    "    \n",
    "    local = 'outputs/EMT0.08_seed{}EM/model_best.pkl'.format(i) \n",
    "    net = torch.load(local, map_location=torch.device('cpu'))\n",
    "    ef4[1, i]=error(EMTData.f(x) - net.vf(x))/error(EMTData.f(x)) \n",
    " \n",
    "\n",
    "    A = net.modus['sigma'](x[0:1]) \n",
    "    target = torch.eye(10)*0.04 \n",
    "    es4[1, i]= error(A@A.transpose(dim0=-2, dim1=-1) - target)/ error(target)"
   ]
  },
  {
   "cell_type": "code",
   "execution_count": 70,
   "id": "44c5cf08-ae38-4ce6-af0c-2aa62bafef2f",
   "metadata": {
    "tags": []
   },
   "outputs": [
    {
     "name": "stdout",
     "output_type": "stream",
     "text": [
      "[0.09978347 0.23543979] [0.00103066 0.00067816]\n",
      "[0.079801   0.18820284] [0.03991376 0.09410312]\n"
     ]
    }
   ],
   "source": [
    "print(es8.mean(1), es8.std(1))\n",
    "print(es4.mean(1), es4.std(1))"
   ]
  }
 ],
 "metadata": {
  "kernelspec": {
   "display_name": "Python torch1",
   "language": "python",
   "name": "torch1"
  },
  "language_info": {
   "codemirror_mode": {
    "name": "ipython",
    "version": 3
   },
   "file_extension": ".py",
   "mimetype": "text/x-python",
   "name": "python",
   "nbconvert_exporter": "python",
   "pygments_lexer": "ipython3",
   "version": "3.8.17"
  }
 },
 "nbformat": 4,
 "nbformat_minor": 5
}
