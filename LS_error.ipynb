{
 "cells": [
  {
   "cell_type": "code",
   "execution_count": 70,
   "id": "238b5987-706e-4e29-bd4a-b5e5402d74ed",
   "metadata": {
    "tags": []
   },
   "outputs": [
    {
     "name": "stdout",
     "output_type": "stream",
     "text": [
      "(100000, 3)\n"
     ]
    }
   ],
   "source": [
    "import torch\n",
    "import numpy as np\n",
    "\n",
    "\n",
    "from LSData import LSData\n",
    "N=100000\n",
    "region=[-25., 25, -30, 30, -10, 60]\n",
    "x01 = np.random.uniform(region[0],region[1],(N, 1))\n",
    "x02 = np.random.uniform(region[2],region[3],(N, 1))\n",
    "x03 = np.random.uniform(region[4],region[5],(N, 1))\n",
    "\n",
    "x0=np.hstack([x01, x02, x03])/10\n",
    "print(x0.shape)\n",
    "x = torch.tensor(x0, dtype = torch.float)\n",
    "\n",
    "seed=5\n",
    "es=np.zeros([3,seed])\n",
    "ef=np.zeros([3,seed])\n",
    "\n",
    "\n",
    "\n",
    "def error(data):\n",
    "    return torch.sqrt(((data**2).mean()).detach())  \n",
    "    # return data.abs().mean().detach()\n",
    "\n",
    "for s in range(seed):\n",
    "    ########## DynGMA\n",
    "    local = 'outputs/LS_28_seed{}/model_best.pkl'.format(s)\n",
    "    net = torch.load(local, map_location=torch.device('cpu'))\n",
    "    \n",
    "    diff = ((LSData.f(x) - net.vf(x))**2).mean().detach()\n",
    "    reladiff = torch.sqrt(diff/((LSData.f(x)**2).mean()).detach())    \n",
    "    \n",
    "    ef[0, s]=error(LSData.f(x) - net.vf(x))/error(LSData.f(x)) \n",
    " \n",
    "\n",
    "    NetSigma = net.sigma(x)@net.sigma(x).transpose(dim0=-2, dim1=-1)\n",
    "    TrueSigma = LSData.g(x)@LSData.g(x).transpose(dim0=-2, dim1=-1)\n",
    "    sdiff = ((NetSigma - TrueSigma)**2).mean().detach()\n",
    "    relasdiff = torch.sqrt( sdiff/((TrueSigma**2).mean()).detach())\n",
    "    \n",
    "    es[0, s]=error(NetSigma - TrueSigma)/error(TrueSigma) \n",
    "    \n",
    "    \n",
    "    ######E-M\n",
    "    local = 'outputs/LSem_28_seed{}/model_best.pkl'.format(s)\n",
    "    net = torch.load(local, map_location=torch.device('cpu'))\n",
    " \n",
    "    ef[1, s]=error(LSData.f(x) - net.vf(x))/error(LSData.f(x)) \n",
    " \n",
    "\n",
    "    NetSigma = net.sigma(x)@net.sigma(x).transpose(dim0=-2, dim1=-1)\n",
    "    TrueSigma = LSData.g(x)@LSData.g(x).transpose(dim0=-2, dim1=-1)\n",
    "    sdiff = ((NetSigma - TrueSigma)**2).mean().detach()\n",
    "    relasdiff = torch.sqrt( sdiff/((TrueSigma**2).mean()).detach())\n",
    "    \n",
    "    es[1, s]=error(NetSigma - TrueSigma)/error(TrueSigma)\n",
    "    \n",
    "    ########## Cub\n",
    "    local = 'outputs/LScub_28_seed{}/model_best.pkl'.format(s)\n",
    "    net = torch.load(local, map_location=torch.device('cpu'))\n",
    "    \n",
    "    diff = ((LSData.f(x) - net.vf(x))**2).mean().detach()\n",
    "    reladiff = torch.sqrt(diff/((LSData.f(x)**2).mean()).detach())    \n",
    "    \n",
    "    ef[2, s]=error(LSData.f(x) - net.vf(x))/error(LSData.f(x)) \n",
    " \n",
    "\n",
    "    NetSigma = net.sigma(x)@net.sigma(x).transpose(dim0=-2, dim1=-1)\n",
    "    TrueSigma = LSData.g(x)@LSData.g(x).transpose(dim0=-2, dim1=-1)\n",
    "    sdiff = ((NetSigma - TrueSigma)**2).mean().detach()\n",
    "    relasdiff = torch.sqrt( sdiff/((TrueSigma**2).mean()).detach())\n",
    "    \n",
    "    es[2, s]=error(NetSigma - TrueSigma)/error(TrueSigma)   \n",
    " "
   ]
  },
  {
   "cell_type": "code",
   "execution_count": 71,
   "id": "b71c3efe-4a73-4710-bbb2-f458d7c8ad97",
   "metadata": {
    "tags": []
   },
   "outputs": [
    {
     "name": "stdout",
     "output_type": "stream",
     "text": [
      "[[0.07278875 0.0956483  0.08467264 0.07026868 0.06950027 0.07606915]\n",
      " [0.12416982 0.12745562 0.13395989 0.12787673 0.12372219 0.12437012]\n",
      " [0.17452079 0.14415167 0.15227385 0.17068934 0.17178693 0.17011039]]\n"
     ]
    }
   ],
   "source": [
    "print(ef)"
   ]
  },
  {
   "cell_type": "code",
   "execution_count": 72,
   "id": "7511c89f-d90d-4f95-8b9c-9bec3d50a6fc",
   "metadata": {
    "tags": []
   },
   "outputs": [
    {
     "name": "stdout",
     "output_type": "stream",
     "text": [
      "[[0.13220727 0.24502853 0.13970622 0.13527371 0.18168548 0.09695784]\n",
      " [0.20983623 0.20701794 0.18329178 0.17942153 0.19496793 0.20608576]\n",
      " [0.62525916 0.56682831 0.30779764 0.44432259 0.53215939 1.00997579]]\n"
     ]
    }
   ],
   "source": [
    "print(es)"
   ]
  },
  {
   "cell_type": "code",
   "execution_count": 73,
   "id": "feff668a-cad5-42fe-a2da-a011f83bdfa4",
   "metadata": {
    "tags": []
   },
   "outputs": [
    {
     "name": "stdout",
     "output_type": "stream",
     "text": [
      "$e_f$ & 7.82e-2$\\pm$9.30e-3 & 1.27e-1$\\pm$3.54e-3 & 1.64e-1$\\pm$1.14e-2 \\\\ $e_{\\sigma}$ & 1.55e-1$\\pm$4.71e-2 & 1.97e-1$\\pm$1.19e-2 & 5.81e-1$\\pm$2.17e-1 \\cr\n"
     ]
    }
   ],
   "source": [
    "def printvalue(x):\n",
    "    return format(x, '.2e').replace(\"e-0\", \"e-\")\n",
    "\n",
    "print('$e_f$', end=\" \")   \n",
    "for i in range(3):\n",
    "    print('&', printvalue(ef[i].mean())+'$\\pm$'+printvalue(ef[i].std()), end=\" \")\n",
    "print('\\\\\\ $e_{\\sigma}$', end=\" \") \n",
    "for i in range(3):\n",
    "    print('&', printvalue(es[i].mean())+'$\\pm$'+printvalue(es[i].std()), end=\" \")\n",
    "print('\\cr')"
   ]
  },
  {
   "cell_type": "code",
   "execution_count": null,
   "id": "8206ca54-2ece-4d15-bd4c-625c5623cd0a",
   "metadata": {},
   "outputs": [],
   "source": []
  }
 ],
 "metadata": {
  "kernelspec": {
   "display_name": "Python torch1",
   "language": "python",
   "name": "torch1"
  },
  "language_info": {
   "codemirror_mode": {
    "name": "ipython",
    "version": 3
   },
   "file_extension": ".py",
   "mimetype": "text/x-python",
   "name": "python",
   "nbconvert_exporter": "python",
   "pygments_lexer": "ipython3",
   "version": "3.8.17"
  }
 },
 "nbformat": 4,
 "nbformat_minor": 5
}
