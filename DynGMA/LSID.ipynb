{
 "cells": [
  {
   "cell_type": "code",
   "execution_count": 2,
   "id": "b7f5af83-926f-44c4-89ad-2de75824edea",
   "metadata": {},
   "outputs": [
    {
     "name": "stdout",
     "output_type": "stream",
     "text": [
      "(20001, 1000, 3)\n",
      "(20001, 1000, 3)\n",
      "(20001, 1000, 3)\n",
      "(20001, 1000, 3)\n",
      "(20001, 1000, 3)\n",
      "(20001, 1000, 3)\n",
      "(20001, 1000, 3)\n",
      "(20001, 1000, 3)\n",
      "(20001, 1000, 3)\n",
      "(20001, 1000, 3)\n",
      "(20001, 1000, 3)\n",
      "(20001, 1000, 3)\n",
      "(20001, 1000, 3)\n",
      "(20001, 1000, 3)\n",
      "(20001, 1000, 3)\n",
      "r= 28\n",
      "(0, 3)\n",
      "(0, 3)\n",
      "ground truth has been generated\n",
      "(20001000, 3)\n"
     ]
    }
   ],
   "source": [
    "import numpy as np\n",
    "import torch \n",
    "import os\n",
    "region=[-25., 25, -30, 30, -10, 60]\n",
    "N=1000\n",
    "\n",
    "Seed=5\n",
    "for seed in range(Seed):\n",
    "    x01 = np.random.uniform(region[0],region[1],(N, 1))\n",
    "    x02 = np.random.uniform(region[2],region[3],(N, 1))\n",
    "    x03 = np.random.uniform(region[4],region[5],(N, 1))\n",
    "    x0=np.hstack([x01, x02, x03])/10\n",
    "    x0 = torch.tensor(x0, dtype = torch.float)\n",
    "    local =  'outputs/LS_28_seed{}/model_best.pkl'.format(seed)\n",
    "    Net = torch.load(local, map_location='cpu')\n",
    "    if os.path.exists('pre28_{}.npy'.format(seed)):\n",
    "        print('presiction has been generated') \n",
    "        traj_pre = np.load('pre28_{}.npy'.format(seed))\n",
    "    else:\n",
    "        with torch.no_grad():\n",
    "            traj_pre = Net.predict(x0, h=0.01, steps=20000, returnnp=True)\n",
    "        pre28 = traj_pre[-10000:].reshape([-1,3])\n",
    "        np.save('pre28_{}.npy'.format(seed), pre28)\n",
    "    print(traj_pre.shape)\n",
    "\n",
    "    local_em =  'outputs/LSem_28_seed{}/model_best.pkl'.format(seed)\n",
    "    Net_em = torch.load(local_em, map_location='cpu')\n",
    "    if os.path.exists('pre_em28_{}.npy'.format(seed)):\n",
    "        print('presiction has been generated') \n",
    "        traj_pre_em = np.load('pre_em28_{}.npy'.format(seed))\n",
    "    else:\n",
    "        with torch.no_grad():\n",
    "            traj_pre_em = Net_em.predict(x0, h=0.01, steps=20000, returnnp=True)\n",
    "        pre_em28 = traj_pre_em[-10000:].reshape([-1,3])\n",
    "        np.save('pre_em28_{}.npy'.format(seed), pre_em28)\n",
    "    print(traj_pre_em.shape)\n",
    "\n",
    "\n",
    "    local_cub =  'outputs/LScub_28_seed{}/model_best.pkl'.format(seed)\n",
    "    Net_cub = torch.load(local_cub, map_location='cpu')\n",
    "    if os.path.exists('pre_cub28_{}.npy'.format(seed)):\n",
    "        print('presiction has been generated') \n",
    "        traj_pre_cub = np.load('pre_cub28_{}.npy'.format(seed))\n",
    "    else:\n",
    "        with torch.no_grad():\n",
    "            traj_pre_cub = Net_cub.predict(x0, h=0.01, steps=20000, returnnp=True)\n",
    "        pre_cub28 = traj_pre_cub[-10000:].reshape([-1,3])\n",
    "        np.save('pre_cub28_{}.npy'.format(seed), pre_cub28)\n",
    "    print(traj_pre_cub.shape)\n",
    "\n",
    "\n",
    "from LSData import LSData\n",
    "Data=LSData(h=0.01, steps = N, length=1, num_train_traj=0, num_test_traj=0)\n",
    "if os.path.exists('true28.npy'):\n",
    "    print('ground truth has been generated') \n",
    "    traj_true = np.load('true28.npy')\n",
    "else:\n",
    "    traj_true = Data.solver.flow(x0, torch.tensor(0.01), 20000).numpy()\n",
    "    true28 = traj_true[-10000:].reshape([-1,3])\n",
    "    np.save('true28', true28)\n",
    "print(traj_true.shape)"
   ]
  },
  {
   "cell_type": "code",
   "execution_count": 20,
   "id": "242efd2c-2bcf-4a31-ac13-a3d86860f37f",
   "metadata": {
    "tags": []
   },
   "outputs": [],
   "source": [
    "def den(data):\n",
    "    ranges = [(-2.5, 2.5), (-3, 3), (-1, 6)]\n",
    "    bins = 100 \n",
    "    hist, edges = np.histogramdd(data, bins=bins, range=ranges)\n",
    "    return hist/data.shape[0]\n",
    "def error(a):\n",
    "    return np.sqrt((a**2).mean())\n",
    "\n",
    "data_true= np.load('true28.npy')\n",
    "data_pre = np.load('pre28_0.npy')\n",
    "data_pre_em = np.load('pre_cub28_0.npy')\n",
    "\n",
    "den_pre=den(data_pre)\n",
    "den_true=den(data_true)\n",
    "den_pre_em=den(data_pre_em)"
   ]
  },
  {
   "cell_type": "code",
   "execution_count": 23,
   "id": "09b77777-dbc1-47cb-a411-f96840307c48",
   "metadata": {
    "tags": []
   },
   "outputs": [
    {
     "name": "stdout",
     "output_type": "stream",
     "text": [
      "[[0.05652964 0.05807825 0.06749816 0.06996137 0.06603222]\n",
      " [0.64445686 0.62308852 0.61608897 0.64049005 0.66559997]\n",
      " [0.22598963 0.23664187 0.26718506 0.24873702 0.24684482]]\n"
     ]
    }
   ],
   "source": [
    "def den(data):\n",
    "    ranges = [(-2.5, 2.5), (-3, 3), (-1, 6)]\n",
    "    bins = 100 \n",
    "    hist, edges = np.histogramdd(data, bins=bins, range=ranges)\n",
    "    return hist/data.shape[0]\n",
    "def error(a):\n",
    "    return np.sqrt((a**2).mean())\n",
    "\n",
    "\n",
    "data_true= np.load('true28.npy')\n",
    "den_true=den(data_true)\n",
    "den_true_norm = error(den_true)\n",
    "\n",
    "\n",
    "ep=np.zeros([3,Seed])\n",
    "for seed in range(Seed):\n",
    "    data_pre = np.load('pre28_{}.npy'.format(seed))\n",
    "    den_pre=den(data_pre)\n",
    "    ep[0, seed] = error(den_pre-den_true)/den_true_norm\n",
    "    \n",
    "    data_pre_em = np.load('pre_em28_{}.npy'.format(seed))\n",
    "    den_pre_em=den(data_pre_em)\n",
    "    ep[1, seed] = error(den_pre_em-den_true)/den_true_norm\n",
    "    \n",
    "    data_pre_cub = np.load('pre_cub28_{}.npy'.format(seed))\n",
    "    den_pre_cub=den(data_pre_cub)\n",
    "    ep[2, seed] = error(den_pre_cub-den_true)/den_true_norm    \n",
    "    \n",
    "print(ep)"
   ]
  },
  {
   "cell_type": "code",
   "execution_count": 24,
   "id": "5b892913-56b3-432e-a914-cf35dd562aae",
   "metadata": {
    "tags": []
   },
   "outputs": [
    {
     "name": "stdout",
     "output_type": "stream",
     "text": [
      "$e_p$ & 6.36e-2$\\pm$5.33e-3 & 6.38e-1$\\pm$1.74e-2 & 2.45e-1$\\pm$1.37e-2 "
     ]
    }
   ],
   "source": [
    "def printvalue(x):\n",
    "    return format(x, '.2e').replace(\"e-0\", \"e-\")\n",
    "\n",
    "print('$e_p$', end=\" \")   \n",
    "for i in range(3):\n",
    "    print('&', printvalue(ep[i].mean())+'$\\pm$'+printvalue(ep[i].std()), end=\" \")"
   ]
  },
  {
   "cell_type": "code",
   "execution_count": null,
   "id": "cdca3ef3-1199-4121-899c-08f886f42ef0",
   "metadata": {},
   "outputs": [],
   "source": []
  }
 ],
 "metadata": {
  "kernelspec": {
   "display_name": "Python torch1",
   "language": "python",
   "name": "torch1"
  },
  "language_info": {
   "codemirror_mode": {
    "name": "ipython",
    "version": 3
   },
   "file_extension": ".py",
   "mimetype": "text/x-python",
   "name": "python",
   "nbconvert_exporter": "python",
   "pygments_lexer": "ipython3",
   "version": "3.8.17"
  }
 },
 "nbformat": 4,
 "nbformat_minor": 5
}
